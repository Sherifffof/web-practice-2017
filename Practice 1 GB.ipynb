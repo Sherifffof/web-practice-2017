{
 "cells": [
  {
   "cell_type": "markdown",
   "metadata": {},
   "source": [
    "# Практическая работа №1\n",
    "## Задание 1\n"
   ]
  },
  {
   "cell_type": "raw",
   "metadata": {},
   "source": [
    "В первом задании я создал 2 файла, которые имеют рефересные ссылки друг на друга. Структура файлов выглядит следующим образом:\n",
    "    ***\n",
    "  myproject/\n",
    "├── about\n",
    "│   └── aboutme.html\n",
    "└── index.html\n",
    "    ***\n",
    "    "
   ]
  },
  {
   "cell_type": "markdown",
   "metadata": {},
   "source": [
    "<html>\n",
    "<head>\n",
    "\t<title>\n",
    "\t\tIndex\n",
    "\t</title>\n",
    "</head>\n",
    "<body>\n",
    "\n",
    "<a href=\"about/aboutme.html\">\n",
    "\t<H1>\n",
    "\t\tАбсолютная ссылка на файл aboutme.html\n",
    "\t</H1>\n",
    "</a>\n",
    "\n",
    "<a href=\"C:/Users/Admin/Desktop/myproject/about/aboutme.html\">\n",
    "\t<H1>\n",
    "\t\tОтносительная ссылка на файл aboutme.html\n",
    "\t</H1>\n",
    "</a>\n",
    "\n",
    "</body>\n",
    "</html>\n",
    "\n",
    "\n",
    "\n"
   ]
  },
  {
   "cell_type": "markdown",
   "metadata": {},
   "source": [
    "<html>\n",
    "<head>\n",
    "\t<title>\n",
    "\t\tAboutme\n",
    "\t</title>\n",
    "</head>\n",
    "<body>\n",
    "\n",
    "<a href=\"../index.html\">\n",
    "\t<H1>\n",
    "\t\tАбсолютная ссылка на файл Index.html\n",
    "\t</H1>\n",
    "</a>\n",
    "\n",
    "<a href=\"C:/Users/Admin/Desktop/myproject/index.html\">\n",
    "\t<H1>\n",
    "\t\tОтносительная ссылка на файл Index.html \n",
    "\t</H1>\n",
    "</a>\n",
    "\n",
    "</body>\n",
    "</html>\n",
    "\n",
    "\n",
    "\n",
    "\n"
   ]
  },
  {
   "cell_type": "markdown",
   "metadata": {},
   "source": [
    "## Анализ\n",
    "В данном задании относительные ссылки - ссылки относительно текущего файла, а абсолютные по месторасположению на диске."
   ]
  },
  {
   "cell_type": "markdown",
   "metadata": {},
   "source": [
    "## Задание 2\n"
   ]
  },
  {
   "cell_type": "markdown",
   "metadata": {},
   "source": [
    "Подключиться по telnet к http://wikipedia.org и отправить запрос:\n",
    "\n",
    "GET /wiki/страница HTTP/1.1\n",
    "\n",
    "Host: ru.wikipedia.org\n",
    "\n",
    "User-Agent: Mozilla/5.0 (X11; U; Linux i686; ru; rv:1.9b5) Gecko/2008050509 Firefox/3.0b5\n",
    "\n",
    "Accept: text/html\n",
    "\n",
    "Connection: close\n",
    "(пустая строка)\n"
   ]
  },
  {
   "cell_type": "markdown",
   "metadata": {},
   "source": [
    "HTTP/1.1 200 OK (версия по протоколу, код состояния, текстовое пояснение кода; всё ок) \n",
    "Date: Wed, 19 Sep 2018 15:37:59 GMT (дата) \n",
    "Server: Apache (Список названий и версий веб-сервера и его компонентов; сервер - апач) \n",
    "X-Powered-By: PHP/5.2.4-2ubuntu5wm1 (указывает платформу приложений, на которой работает сервер) \n",
    "Last-Modified: Wed, 19 Sep 2018 15:37:59 GMT (дата последнего обновления страницы) \n",
    "Content-Language: ru (язык контента; русский) \n",
    "Content-Type: text/html; \n",
    "charset=utf-8(Формат и способ представления сущности)\n",
    "Content-Length: 1234 (Размер содержимого сущности в байтах) \n",
    "Connection: close (Сведения о проведении соединения)\n",
    "(пустая строка) \n",
    "(запрошенная страница в HTML)\n",
    "\n"
   ]
  },
  {
   "cell_type": "markdown",
   "metadata": {},
   "source": [
    "## Задание 3"
   ]
  },
  {
   "cell_type": "markdown",
   "metadata": {},
   "source": [
    "Отправить запросы на http://httpbin.org, проанализировать ответ и код состояния. Описать работу HTTP протокола в каждом запросе.\n",
    "\n",
    "## /ip\n",
    "GET /ip HTTP/1.1\n",
    "\n",
    "Host: httpbin.org\n",
    "\n",
    "Accept: */*\n"
   ]
  },
  {
   "cell_type": "markdown",
   "metadata": {},
   "source": [
    "## Ответ:\n",
    "\n",
    "HTTP/1.1 200 OK\n",
    "\n",
    "Connection: keep-alive\n",
    "    \n",
    "Server: gunicorn/19.9.0\n",
    "    \n",
    "Date: Wed, 26 Sep 2018 14:05:05 GMT\n",
    "            \n",
    "Content-Type: application/json\n",
    "    \n",
    "Content-Length: 33\n",
    "\n",
    "Access-Control-Allow-Origin: *\n",
    "    \n",
    "Access-Control-Allow-Credentials: true\n",
    " \n",
    "{\n",
    "   \"origin\": \"188.17.170.219\"\n",
    "                             }\n"
   ]
  },
  {
   "cell_type": "markdown",
   "metadata": {},
   "source": [
    "## Анализ\n",
    "Код ответа (состояния) HTTP показывает, был ли успешно выполнен определённый HTTP запрос. Это первая строчка. В нашем случае запрос выполнен успешно, о чем свидетельствует 200 ОК. Запросив метод GET, мы запросили ресурс, который был найден и передан в теле ответа. Анализируя дальше, видим, что  соединение постоянно, о чем свидетельствует keep-alive. В этом случае соединение  не разрывается, а остаётся открытым. Когда клиент отправляет ещё один запрос, он использует это же соединение. Так будет продолжаться до тех пор, пока клиент или сервер не решат, что обмен окончен, и одна из сторон завершит соединение.\n",
    "Обращаясь далее, мы видим данные о сервере, данные о дате. Content-type: application/json говорит нам о типе контента – заголовке в 33 символа – информации, исходящей из следующей строчки. Именно заголовок и длина строчки будет передана в качестве ответа. Access-control-allow-origin  позволяет понять, что операция выполняется. Via: 1.1 vegur говорит нам о версии протокола и версии прокси-сервера, через которых пришел ответ.\n"
   ]
  },
  {
   "cell_type": "markdown",
   "metadata": {},
   "source": [
    "## /get\n",
    "\n",
    "GET /get?foo=bar&1=2&2/0&error=True HTTP/1.1\n",
    "\n",
    "Host: httpbin.org\n",
    "    \n",
    "Accept: */*"
   ]
  },
  {
   "cell_type": "markdown",
   "metadata": {},
   "source": [
    "## Ответ\n",
    "HTTP/1.1 200 OK\n",
    "\n",
    "Server: gunicorn/19.9.0\n",
    "\n",
    "Date: Wed, 26 Sep 2018 14:32:42 GMT\n",
    "\n",
    "Content-Type: application/json\n",
    "\n",
    "Content-Length: 289\n",
    "\n",
    "Connection: keep-alive\n",
    "\n",
    "Access-Control-Allow-Origin: *\n",
    "\n",
    "Access-Control-Allow-Credentials: true\n",
    "\n",
    "Via: 1.1 vegur \n",
    "\n",
    "\n",
    "{\n",
    "   \"args\": {\n",
    "                \"1\": \"2\",\n",
    "                              \"2/0\": \"\",\n",
    "                                             \"error\": \"True\",\n",
    "                                                                  \"foo\": \"bar\"\n",
    " \n",
    "},\n",
    "     \"headers\": {\n",
    "                     \"Accept\": \"*/*\",\n",
    "                                          \"Host\": \"httpbin.org\"\n",
    "                                                                 },\n",
    "                                                                      \"origin\":\n",
    "\"188.17.170.219\",\n",
    "                    \"url\": \"http://httpbin.org/get?foo=bar&1=2&2%2F0&error=True\"\n",
    " \n",
    "}\n"
   ]
  },
  {
   "cell_type": "markdown",
   "metadata": {},
   "source": [
    "## Анализ\n",
    "Все тоже самое, но в этом задании обращаемся к  ресурсу и получаем информацию на запрос get со списком параметров.\n"
   ]
  },
  {
   "cell_type": "markdown",
   "metadata": {},
   "source": [
    "## /post\n",
    "POST /post HTTP/1.1\n",
    "\n",
    "Host: httpbin.org\n",
    "\n",
    "Accept: */*\n",
    "\n",
    "Content-Length: вычислить длину контента и втавить сюда число!!!\n",
    "Content-Type: application/x-www-form-urlencoded\n",
    "\n",
    "foo=bar&1=2&2%2F0=&error=True"
   ]
  },
  {
   "cell_type": "markdown",
   "metadata": {},
   "source": [
    "## Ответ\n",
    "HTTP/1.1 200 OK\n",
    "\n",
    "Server: gunicorn/19.9.0\n",
    "\n",
    "Date: Wed, 26 Sep 2018 14:36:12 GMT\n",
    "\n",
    "Content-Type: application/json\n",
    "Content-Length: 389\n",
    "\n",
    "Connection: keep-alive\n",
    "\n",
    "Access-Control-Allow-Origin: *\n",
    "\n",
    "Access-Control-Allow-Credentials: true\n",
    " \n",
    "{\n",
    "   \"args\": {},\n",
    "                 \"data\": \"\",\n",
    "                               \"files\": {},\n",
    "                                              \"form\": {\n",
    "                                                           \"1\": \"2\",\n",
    "                                                                         \"2/0\":\n",
    "\"\",\n",
    "        \"error\": \"True\\r\\n\\r\\n\\r\\n\",\n",
    "                                         \"foo\": \"bar\"\n",
    "                                                       },\n",
    "                                                            \"headers\": {\n",
    "                                                                            \"Acc\n",
    "ept\": \"*/*\",\n",
    "                 \"Content-Length\": \"35\",\n",
    "                                             \"Content-Type\": \"application/x-www-\n",
    "form-urlencoded\",\n",
    "                      \"Host\": \"httpbin.org\"\n",
    "                                             },\n",
    "                                                  \"json\": null,\n",
    "                                                                  \"origin\": \"188.17.170.219\n",
    "\",\n",
    "                \"url\": \"http://httpbin.org/post\"\n",
    "                                                }\n"
   ]
  },
  {
   "cell_type": "markdown",
   "metadata": {},
   "source": [
    "## Анализ\n",
    "\n",
    "Код ответа (состояния) HTTP показывает, был ли успешно выполнен определённый HTTP запрос. Это первая строчка. В нашем случае запрос выполнен успешно, о чем свидетельствует 200 ОК. Запросив метод POST,  мы отправляем пользовательские данные ресурсу. Анализируя дальше, видим, что  соединение постоянно, о чем свидетельствует keep-alive. В этом случае соединение  не разрывается, а остаётся открытым. Когда клиент отправляет ещё один запрос, он использует это же соединение. Так будет продолжаться до тех пор, пока клиент или сервер не решат, что обмен окончен, и одна из сторон завершит соединение.\n",
    "Обращаясь далее, мы видим данные о сервере, данные о дате. Content-type: application/json говорит нам о типе тела  – заголовке в 389 символов – информации, исходящей из следующей строчки. Именно заголовок и длина строчки будет передана в качестве ответа. Access-control-allow-origin  позволяет понять, что операция выполняется. \n"
   ]
  },
  {
   "cell_type": "markdown",
   "metadata": {},
   "source": [
    "## /redirect\n",
    "\n",
    "GET /redirect/4 HTTP/1.1\n",
    "\n",
    "Host: httpbin.org\n",
    "\n",
    "Accept: */*\n"
   ]
  },
  {
   "cell_type": "markdown",
   "metadata": {},
   "source": [
    "## Ответ\n",
    "302 FOUND\n",
    "\n",
    "\tServer: gunicorn/19.9.0\n",
    "    \n",
    "Connection: keep-alive\n",
    "\n",
    "\tDate: Wed, 26 Sep 2018 14:38:40 GMT\n",
    "    \n",
    "\tContent-Type: text/html; charset=utf-8\n",
    "    \n",
    "\tContent-Length: 247\n",
    "    \n",
    "\tConnection: keep-alive\n",
    "    \n",
    "\tLocation: /relative-redirect/3\n",
    "    \n",
    "\tAccess-Control-Allow-Origin: *\n",
    "    \n",
    "\tAccess-Control-Allow-Credentials: true\n"
   ]
  },
  {
   "cell_type": "markdown",
   "metadata": {},
   "source": [
    "## Анализ\n",
    "Код ответа (состояния) HTTP показывает, был ли успешно выполнен определённый HTTP запрос. Это первая строчка. В нашем случае ответ на запрос говорит нам, что ресурс Найден. Этот код ответа значит, что запрошенный ресурс временно изменен. Новые изменения в URI могут быть доступны в будущем. Таким образом, этот URI, должен быть использован клиентом в будущих запросах.\n",
    "Запросив метод redirect,  мы перенаправляем пользовательские данные ресурсу. Анализируя дальше, видим, что  соединение постоянно, о чем свидетельствует keep-alive. В этом случае соединение  не разрывается, а остаётся открытым. Когда клиент отправляет ещё один запрос, он использует это же соединение. Так будет продолжаться до тех пор, пока клиент или сервер не решат, что обмен окончен, и одна из сторон завершит соединение. Тело контента – текст, состоящий из 247 символов. Location показывает нам, что запрошенный ресурс изменен, перенаправлен.\n",
    "В ответе мы получили перенаправление на временную страницу. \n"
   ]
  },
  {
   "cell_type": "markdown",
   "metadata": {},
   "source": [
    "## /cookies/set\n",
    "\n",
    "GET /cookies/set?country=Ru HTTP/1.1\n",
    "\n",
    "Host: httpbin.org\n",
    "\n",
    "Accept: */*\n"
   ]
  },
  {
   "cell_type": "markdown",
   "metadata": {},
   "source": [
    "## Ответ\n",
    "302 FOUND\n",
    "\n",
    "Connection: keep-alive\n",
    "\n",
    "Date: Wed, 26 Sep 2018 14:41:26 GMT\n",
    "\n",
    "Content-Type: text/html; charset=utf-8\n",
    "\n",
    "Content-Length: 223\n",
    "\n",
    "Location: /cookies\n",
    "\n",
    "Set-Cookie: country=Ru; Path=/\n",
    "\n",
    "Access-Control-Allow-Origin: *\n",
    "\n",
    "Access-Control-Allow-Credentials: true\n",
    "\n",
    "\n",
    "<!DOCTYPE HTML PUBLIC \"-//W3C//DTD HTML 3.2 Final//EN\">\n",
    "<title>Redirecting...</title>\n",
    "<h1>Redirecting...</h1>\n",
    "<p>You should be redirected automatically to target URL: <a href=\"/cookies\">/cookies</a>.  If not click the link.\n"
   ]
  },
  {
   "cell_type": "markdown",
   "metadata": {},
   "source": [
    "## Анализ \n",
    "302 Found – Страница перенаправлена. Текстовый файл в виде типа тела, 223 – длина строки, соединение постоянное. Произведен запрос на изменение данных в cookies. Переадресовали на временный адрес /cookies."
   ]
  },
  {
   "cell_type": "markdown",
   "metadata": {},
   "source": [
    "## /cookies\n",
    "GET /cookies HTTP/1.1\n",
    "\n",
    "Host: httpbin.org\n",
    "\n",
    "Accept: */*\n"
   ]
  },
  {
   "cell_type": "markdown",
   "metadata": {},
   "source": [
    "## Ответ\n",
    "200 OK\n",
    "\n",
    "Connection: keep-alive\n",
    "\n",
    "Server: gunicorn/19.9.0\n",
    "\n",
    "Date: Wed, 26  Sep 2018 14:39:59 GMT\n",
    "\n",
    "Content-Type: application/json\n",
    "\n",
    "Content-Length: 20\n",
    "\n",
    "Access-Control-Allow-Origin: *\n",
    "Access-Control-Allow-Credentials: true\n",
    "\n",
    "\n",
    "{\n",
    "  \"cookies\": {}\n",
    "}\n",
    "\n"
   ]
  },
  {
   "cell_type": "markdown",
   "metadata": {},
   "source": [
    "## Анализ \n",
    "Получаем куки: \n",
    "-\tнебольшой фрагмент данных, отправленный веб-сервером и хранимый на компьютере пользователя. Веб-клиент (обычно веб-браузер) всякий раз при попытке открыть страницу соответствующего сайта пересылает этот фрагмент данных веб-серверу в составе HTTP-запроса. В результате чего, в ответе на запрос получаем пустые данные в “cookies”: {}"
   ]
  },
  {
   "cell_type": "markdown",
   "metadata": {},
   "source": [
    "# Задание 4\n"
   ]
  },
  {
   "cell_type": "markdown",
   "metadata": {},
   "source": [
    "Создать HTML форму c action=\"http://httpbin.org/post\" method=\"POST\" и enctype=\"multipart/form-data\"\n",
    "Добавить в форму поля firstname, lastname, group, message (textarea), myimg (file).\n",
    "Проверить результат отправки данных формы.\n",
    "Проанализировать ответ. Описать работу HTTP протокола в данном случае."
   ]
  },
  {
   "cell_type": "markdown",
   "metadata": {},
   "source": [
    "## Задание: \n",
    "<html> \n",
    "<head> \n",
    "<title>HTML форма</title> \n",
    "<h1 align=\"right\" style=\"color:Black\">Анкета</h1>\n",
    "</head> \n",
    "<body> \n",
    "<form action=\"http://httpbin.org/post\" method=\"POST\" enctype=\"multipart/form-data\"> \n",
    "<fieldset> \n",
    "<h2>Имя: <input type=\"text\" name=\"firstname\"> \n",
    "Фамилия: <input type=\"text\" name=\"lastname\"> \n",
    "Группа: <input type=\"text\" name =\"group\"> \n",
    "Комментарий: <textarea></textarea></p> \n",
    "Загрузить изображение: <input name=\"myimg\" type=\"file\"/> \n",
    "<button>\n",
    "Отправить</button></p>  \n",
    "</fieldset> \n",
    "</form> \n",
    "</body> \n",
    "</html>\n"
   ]
  },
  {
   "cell_type": "markdown",
   "metadata": {},
   "source": [
    "## Ответ:\n",
    "{\n",
    "  \"args\": {}, \n",
    "  \"data\": \"\", \n",
    "  \"files\": {}, \n",
    "  \"form\": {\n",
    "    \"firstname\": \"Bogdan\", \n",
    "    \"group\": \"Nmt-362701\", \n",
    "    \"lastname\": \"Gareev\", \n",
    "    \"myimg\": \"\"\n",
    "  }, \n",
    "  \"headers\": {\n",
    "    \"Accept\": \"text/html,application/xhtml+xml,application/xml;q=0.9,image/webp,image/apng,*/*;q=0.8\", \n",
    "    \"Accept-Encoding\": \"gzip, deflate\", \n",
    "    \"Accept-Language\": \"ru-RU,ru;q=0.9,en-US;q=0.8,en;q=0.7\", \n",
    "    \"Cache-Control\": \"max-age=0\", \n",
    "    \"Connection\": \"close\", \n",
    "    \"Content-Length\": \"494\", \n",
    "    \"Content-Type\": \"multipart/form-data; boundary=----WebKitFormBoundaryvwSvFl9tT9nMi0UC\", \n",
    "    \"Cookie\": \"data-popped-ok=1\", \n",
    "    \"Host\": \"httpbin.org\", \n",
    "    \"Origin\": \"null\", \n",
    "    \"Upgrade-Insecure-Requests\": \"1\", \n",
    "    \"User-Agent\": \"Mozilla/5.0 (Windows NT 10.0; Win64; x64) AppleWebKit/537.36 (KHTML, like Gecko) Chrome/69.0.3497.100 Safari/537.36\"\n",
    "  }, \n",
    "  \"json\": null, \n",
    "  \"origin\": \"212.193.94.40\", \n",
    "  \"url\": \"http://httpbin.org/post\"\n",
    "}"
   ]
  },
  {
   "cell_type": "markdown",
   "metadata": {},
   "source": [
    "## Анализ\n",
    "Создали форму, отправили данные, и в соответствии с ними получили ответ\n"
   ]
  }
 ],
 "metadata": {
  "kernelspec": {
   "display_name": "Python 3",
   "language": "python",
   "name": "python3"
  },
  "language_info": {
   "codemirror_mode": {
    "name": "ipython",
    "version": 3
   },
   "file_extension": ".py",
   "mimetype": "text/x-python",
   "name": "python",
   "nbconvert_exporter": "python",
   "pygments_lexer": "ipython3",
   "version": "3.6.4"
  }
 },
 "nbformat": 4,
 "nbformat_minor": 2
}
